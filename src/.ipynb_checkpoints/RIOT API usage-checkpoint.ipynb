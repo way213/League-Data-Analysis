{
 "cells": [
  {
   "cell_type": "code",
   "execution_count": 13,
   "id": "e960f346",
   "metadata": {},
   "outputs": [],
   "source": [
    "import requests\n",
    "key = 'RGAPI-b9ac04aa-42e0-4f43-8e98-bd8f78cac878'"
   ]
  },
  {
   "cell_type": "markdown",
   "id": "19e31412",
   "metadata": {},
   "source": [
    "## Requesting data from RIOT"
   ]
  },
  {
   "cell_type": "code",
   "execution_count": 14,
   "id": "9427c83f",
   "metadata": {},
   "outputs": [
    {
     "name": "stdout",
     "output_type": "stream",
     "text": [
      "{'id': 'TGpB7SIsSLFgjRW7IqKjaDOnXJjZLRtOxggozO3-JJtD4YO4', 'accountId': '6t3jE1Tjo9QTawW-wfDbJN3qPawFVUZDYsWE-F84dfAeE4sfYMcZY-ky', 'puuid': 'mPnEBBd82jEPIxTYp4IRLyZrvX4mY7ZqJOcXZRHRascKaGQYwSoYGIOkL3r_OroVZICmnnb_WZ10Ow', 'name': 'ur mom sus', 'profileIconId': 907, 'revisionDate': 1697774443000, 'summonerLevel': 118}\n"
     ]
    }
   ],
   "source": [
    "api_url = 'https://na1.api.riotgames.com/lol/summoner/v4/summoners/by-name/ur%20mom%20sus'\n",
    "api_url = api_url +'?api_key=' + key\n",
    "r = requests.get(api_url)\n",
    "my_info = r.json()\n",
    "print(my_info)"
   ]
  },
  {
   "cell_type": "markdown",
   "id": "64f704d8",
   "metadata": {},
   "source": [
    "## Getting puuid of my account"
   ]
  },
  {
   "cell_type": "code",
   "execution_count": 5,
   "id": "50466ce0",
   "metadata": {},
   "outputs": [
    {
     "data": {
      "text/plain": [
       "'mPnEBBd82jEPIxTYp4IRLyZrvX4mY7ZqJOcXZRHRascKaGQYwSoYGIOkL3r_OroVZICmnnb_WZ10Ow'"
      ]
     },
     "execution_count": 5,
     "metadata": {},
     "output_type": "execute_result"
    }
   ],
   "source": [
    "my_puuid = my_info['puuid']\n",
    "my_puuid"
   ]
  },
  {
   "cell_type": "code",
   "execution_count": 7,
   "id": "782837e7",
   "metadata": {},
   "outputs": [],
   "source": [
    "match_data_url = 'https://americas.api.riotgames.com/lol/match/v5/matches/by-puuid/mPnEBBd82jEPIxTYp4IRLyZrvX4mY7ZqJOcXZRHRascKaGQYwSoYGIOkL3r_OroVZICmnnb_WZ10Ow/ids?start=0&count=20'\n",
    "# making request...\n",
    "match_data_url = match_data_url +'&api_key=' + key\n",
    "r = requests.get(match_data_url)\n",
    "matches = r.json()\n",
    "# we will be working with the first (latest) match\n",
    "match = matches[0]"
   ]
  },
  {
   "cell_type": "markdown",
   "id": "f31713ab",
   "metadata": {},
   "source": [
    "## After getting the match ID, we will now be making another request to get the data of that specific match."
   ]
  },
  {
   "cell_type": "code",
   "execution_count": 8,
   "id": "97bb5eed",
   "metadata": {},
   "outputs": [
    {
     "data": {
      "text/plain": [
       "dict_keys(['metadata', 'info'])"
      ]
     },
     "execution_count": 8,
     "metadata": {},
     "output_type": "execute_result"
    }
   ],
   "source": [
    "match_url = 'https://americas.api.riotgames.com/lol/match/v5/matches/NA1_4805495584'\n",
    "match_url = match_url +'?api_key=' + key\n",
    "r = requests.get(match_url)\n",
    "match_data = r.json()\n",
    "# Taking a look at our keys in the dict\n",
    "match_data.keys()"
   ]
  },
  {
   "cell_type": "code",
   "execution_count": 9,
   "id": "eaf3a9c5",
   "metadata": {},
   "outputs": [
    {
     "name": "stdout",
     "output_type": "stream",
     "text": [
      "dict_keys(['gameCreation', 'gameDuration', 'gameEndTimestamp', 'gameId', 'gameMode', 'gameName', 'gameStartTimestamp', 'gameType', 'gameVersion', 'mapId', 'participants', 'platformId', 'queueId', 'teams', 'tournamentCode'])\n"
     ]
    },
    {
     "data": {
      "text/plain": [
       "10"
      ]
     },
     "execution_count": 9,
     "metadata": {},
     "output_type": "execute_result"
    }
   ],
   "source": [
    "print(match_data['info'].keys())\n",
    "len(match_data['info']['participants'])"
   ]
  },
  {
   "cell_type": "markdown",
   "id": "c99494ee",
   "metadata": {},
   "source": [
    "### Now we will use our puuid, to find where my ID is located, and then getting my satistics with a direct call to index position"
   ]
  },
  {
   "cell_type": "code",
   "execution_count": 10,
   "id": "2462017d",
   "metadata": {},
   "outputs": [
    {
     "data": {
      "text/plain": [
       "'Tristana'"
      ]
     },
     "execution_count": 10,
     "metadata": {},
     "output_type": "execute_result"
    }
   ],
   "source": [
    "my_index = match_data['metadata']['participants'].index(my_puuid)\n",
    "# using my index position, to see what champion I played in this match.\n",
    "match_data['info']['participants'][my_index]['championName']"
   ]
  },
  {
   "cell_type": "markdown",
   "id": "36abee3c",
   "metadata": {},
   "source": [
    "## Making a function to retrive puuid easily"
   ]
  },
  {
   "cell_type": "code",
   "execution_count": 11,
   "id": "09d45368",
   "metadata": {},
   "outputs": [],
   "source": [
    "# The first function simply gets the puuid, given a summoner name and region\n",
    "# This is exactly the same as our first example, except we're building the API URL from scratch\n",
    "def get_puuid(summoner_name, region, api_key):\n",
    "    api_url = (\n",
    "        \"https://\" + \n",
    "        region +\n",
    "        \".api.riotgames.com/lol/summoner/v4/summoners/by-name/\" +\n",
    "        summoner_name +\n",
    "        \"?api_key=\" +\n",
    "        api_key\n",
    "    )\n",
    "    \n",
    "    print(api_url)\n",
    "    \n",
    "    resp = requests.get(api_url)\n",
    "    player_info = resp.json()\n",
    "    puuid = player_info['puuid']\n",
    "    return puuid "
   ]
  },
  {
   "cell_type": "code",
   "execution_count": 12,
   "id": "16e36fde",
   "metadata": {},
   "outputs": [
    {
     "name": "stdout",
     "output_type": "stream",
     "text": [
      "https://americas.api.riotgames.com/lol/summoner/v4/summoners/by-name/ur mom sus?api_key=RGAPI-b9ac04aa-42e0-4f43-8e98-bd8f78cac878\n"
     ]
    },
    {
     "ename": "KeyError",
     "evalue": "'puuid'",
     "output_type": "error",
     "traceback": [
      "\u001b[0;31m---------------------------------------------------------------------------\u001b[0m",
      "\u001b[0;31mKeyError\u001b[0m                                  Traceback (most recent call last)",
      "Cell \u001b[0;32mIn[12], line 4\u001b[0m\n\u001b[1;32m      1\u001b[0m summoner_name \u001b[38;5;241m=\u001b[39m \u001b[38;5;124m'\u001b[39m\u001b[38;5;124mur mom sus\u001b[39m\u001b[38;5;124m'\u001b[39m\n\u001b[1;32m      2\u001b[0m region \u001b[38;5;241m=\u001b[39m \u001b[38;5;124m'\u001b[39m\u001b[38;5;124mamericas\u001b[39m\u001b[38;5;124m'\u001b[39m\n\u001b[0;32m----> 4\u001b[0m puuid \u001b[38;5;241m=\u001b[39m get_puuid(summoner_name, region, key)\n\u001b[1;32m      5\u001b[0m puuid\n",
      "Cell \u001b[0;32mIn[11], line 17\u001b[0m, in \u001b[0;36mget_puuid\u001b[0;34m(summoner_name, region, api_key)\u001b[0m\n\u001b[1;32m     15\u001b[0m resp \u001b[38;5;241m=\u001b[39m requests\u001b[38;5;241m.\u001b[39mget(api_url)\n\u001b[1;32m     16\u001b[0m player_info \u001b[38;5;241m=\u001b[39m resp\u001b[38;5;241m.\u001b[39mjson()\n\u001b[0;32m---> 17\u001b[0m puuid \u001b[38;5;241m=\u001b[39m player_info[\u001b[38;5;124m'\u001b[39m\u001b[38;5;124mpuuid\u001b[39m\u001b[38;5;124m'\u001b[39m]\n\u001b[1;32m     18\u001b[0m \u001b[38;5;28;01mreturn\u001b[39;00m puuid\n",
      "\u001b[0;31mKeyError\u001b[0m: 'puuid'"
     ]
    }
   ],
   "source": [
    "summoner_name = 'ur mom sus'\n",
    "region = 'americas'\n",
    "\n",
    "puuid = get_puuid(summoner_name, region, key)\n",
    "puuid"
   ]
  },
  {
   "cell_type": "code",
   "execution_count": null,
   "id": "5e75fe4f",
   "metadata": {},
   "outputs": [],
   "source": []
  }
 ],
 "metadata": {
  "kernelspec": {
   "display_name": "Python 3 (ipykernel)",
   "language": "python",
   "name": "python3"
  },
  "language_info": {
   "codemirror_mode": {
    "name": "ipython",
    "version": 3
   },
   "file_extension": ".py",
   "mimetype": "text/x-python",
   "name": "python",
   "nbconvert_exporter": "python",
   "pygments_lexer": "ipython3",
   "version": "3.11.4"
  }
 },
 "nbformat": 4,
 "nbformat_minor": 5
}
